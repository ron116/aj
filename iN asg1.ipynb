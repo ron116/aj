{
 "cells": [
  {
   "cell_type": "code",
   "execution_count": 1,
   "metadata": {},
   "outputs": [
    {
     "name": "stdout",
     "output_type": "stream",
     "text": [
      "welcome to python!\n"
     ]
    }
   ],
   "source": [
    "print(\"welcome to python!\")"
   ]
  },
  {
   "cell_type": "markdown",
   "metadata": {},
   "source": [
    "2.Write a program which will find all such numbers which are divisible by 7 but are not a multiple of 5, between 2000 and 3200 (both included). The numbers obtained should be printed in a comma-separated sequence on a single line.  "
   ]
  },
  {
   "cell_type": "code",
   "execution_count": 2,
   "metadata": {},
   "outputs": [
    {
     "name": "stdout",
     "output_type": "stream",
     "text": [
      "2002,2009,2016,2023,2037,2044,2051,2058,2072,2079,2086,2093,2107,2114,2121,2128,2142,2149,2156,2163,2177,2184,2191,2198,2212,2219,2226,2233,2247,2254,2261,2268,2282,2289,2296,2303,2317,2324,2331,2338,2352,2359,2366,2373,2387,2394,2401,2408,2422,2429,2436,2443,2457,2464,2471,2478,2492,2499,2506,2513,2527,2534,2541,2548,2562,2569,2576,2583,2597,2604,2611,2618,2632,2639,2646,2653,2667,2674,2681,2688,2702,2709,2716,2723,2737,2744,2751,2758,2772,2779,2786,2793,2807,2814,2821,2828,2842,2849,2856,2863,2877,2884,2891,2898,2912,2919,2926,2933,2947,2954,2961,2968,2982,2989,2996,3003,3017,3024,3031,3038,3052,3059,3066,3073,3087,3094,3101,3108,3122,3129,3136,3143,3157,3164,3171,3178,3192,3199,"
     ]
    }
   ],
   "source": [
    "for i in range(2000,3201):\n",
    "    if i%7 == 0 and i%5 != 0:\n",
    "        print(i, end=\",\")\n"
   ]
  },
  {
   "cell_type": "markdown",
   "metadata": {},
   "source": [
    "3.Write a Python program to accept the user's first and last name and then getting them printed in the the reverse order with a space between first name and last name"
   ]
  },
  {
   "cell_type": "code",
   "execution_count": 6,
   "metadata": {},
   "outputs": [
    {
     "name": "stdout",
     "output_type": "stream",
     "text": [
      "Enter Firt Name:Arun\n",
      "Enter last Name:Jagadish\n",
      "hsidagaJ nurA\n"
     ]
    }
   ],
   "source": [
    "fn= input(\"Enter Firt Name:\")\n",
    "ln= input(\"Enter last Name:\")\n",
    "name= \" \".join([fn,ln])\n",
    "print(name[::-1])"
   ]
  },
  {
   "cell_type": "code",
   "execution_count": 8,
   "metadata": {},
   "outputs": [
    {
     "name": "stdout",
     "output_type": "stream",
     "text": [
      "arun\n",
      "jagadish\n",
      "hsidagaj nura\n"
     ]
    }
   ],
   "source": [
    "f = input()\n",
    "l = input()\n",
    "print((\"{} {}\".format(f,l))[::-1])"
   ]
  },
  {
   "cell_type": "markdown",
   "metadata": {},
   "source": [
    "3.Write a Python program to find the volume of a sphere with diameter 12 cm.  \n",
    " \n",
    "Formula: V=4/3 * π * r 3 "
   ]
  },
  {
   "cell_type": "code",
   "execution_count": 11,
   "metadata": {},
   "outputs": [
    {
     "data": {
      "text/plain": [
       "904.3199999999999"
      ]
     },
     "execution_count": 11,
     "metadata": {},
     "output_type": "execute_result"
    }
   ],
   "source": [
    "pi = 3.14\n",
    "r = 6\n",
    "V= 4/3 * 3.14 * r**3\n",
    "V"
   ]
  },
  {
   "cell_type": "markdown",
   "metadata": {},
   "source": [
    "Task 2:  \n",
    " \n",
    " \n",
    "1.Write a program which accepts a sequence of comma-separated numbers from console and generate a list. \n",
    " \n",
    " "
   ]
  },
  {
   "cell_type": "code",
   "execution_count": 24,
   "metadata": {},
   "outputs": [
    {
     "name": "stdout",
     "output_type": "stream",
     "text": [
      "1,2,3,6,5,4,7,8,9\n"
     ]
    },
    {
     "data": {
      "text/plain": [
       "['1', '2', '3', '6', '5', '4', '7', '8', '9']"
      ]
     },
     "execution_count": 24,
     "metadata": {},
     "output_type": "execute_result"
    }
   ],
   "source": [
    "x = input()\n",
    "x\n",
    "a=list(x.split(\",\"))\n",
    "a"
   ]
  },
  {
   "cell_type": "markdown",
   "metadata": {},
   "source": [
    "2.  \n",
    " \n",
    "Create the below pattern using nested for loop in Python. \n",
    " \n",
    " \n",
    "*  \n",
    "* *  \n",
    "* * *  \n",
    "* * * *  \n",
    "* * * * *  \n",
    "* * * *  \n",
    "* * *  \n",
    "* *  \n",
    "* \n"
   ]
  },
  {
   "cell_type": "code",
   "execution_count": 52,
   "metadata": {},
   "outputs": [
    {
     "name": "stdout",
     "output_type": "stream",
     "text": [
      "\n",
      "* \n",
      "* * \n",
      "* * * \n",
      "* * * * \n",
      "* * * * * \n",
      "* * * * * * \n",
      "* * * * * \n",
      "* * * * \n",
      "* * * \n",
      "* * \n",
      "* \n"
     ]
    }
   ],
   "source": [
    "for i in range(6):\n",
    "    for j in range(i):\n",
    "        print(\"* \",end=\"\")\n",
    "    print(\"\")\n",
    "    \n",
    "for i in range(6,0,-1):\n",
    "    for j in range(i):\n",
    "        print(\"* \", end=\"\")\n",
    "    print(\"\")\n",
    "   "
   ]
  },
  {
   "cell_type": "markdown",
   "metadata": {},
   "source": [
    "3. Write a Python program to reverse a word after accepting the input from the user. \n",
    " \n",
    "Sample Output: \n",
    " \n",
    "Input word: AcadGild \n",
    " \n",
    "Output: dilGdac"
   ]
  },
  {
   "cell_type": "code",
   "execution_count": 53,
   "metadata": {},
   "outputs": [
    {
     "name": "stdout",
     "output_type": "stream",
     "text": [
      "Adnnlnso\n"
     ]
    },
    {
     "data": {
      "text/plain": [
       "'osnlnndA'"
      ]
     },
     "execution_count": 53,
     "metadata": {},
     "output_type": "execute_result"
    }
   ],
   "source": [
    "n = ((input())[::-1])\n",
    "n"
   ]
  },
  {
   "cell_type": "markdown",
   "metadata": {},
   "source": [
    "4.Write a Python Program to print the given string in the format specified in the ​sample output. \n",
    " WE, THE PEOPLE OF INDIA, having solemnly resolved to constitute India into a SOVEREIGN, SOCIALIST, SECULAR, DEMOCRATIC REPUBLIC and to secure to all its citizens \n",
    " \n",
    "Sample Output: \n",
    " \n",
    "WE, THE PEOPLE OF INDIA,   \n",
    "      having solemnly resolved to constitute India into a \n",
    "            SOVEREIGN, !  SOCIALIST, SECULAR, DEMOCRATIC REPUBLIC    \n",
    "             and to secure to all its citizens \n",
    " \n",
    " "
   ]
  },
  {
   "cell_type": "code",
   "execution_count": 57,
   "metadata": {},
   "outputs": [
    {
     "name": "stdout",
     "output_type": "stream",
     "text": [
      "WE, THE PEOPLE OF INDIA,\n",
      "\thaving solemnly resolved to constitute India into a\n",
      "\t\tSOVEREIGN, SOCIALIST, SECULAR, DEMOCRATIC REPUBLIC \n",
      "\t\t and to secure to all its citizens\n"
     ]
    }
   ],
   "source": [
    "print(\"WE, THE PEOPLE OF INDIA,\\n\\thaving solemnly resolved to constitute India into a\\n\\t\\tSOVEREIGN, SOCIALIST, SECULAR, DEMOCRATIC REPUBLIC \\n\\t\\t and to secure to all its citizens\")"
   ]
  },
  {
   "cell_type": "code",
   "execution_count": null,
   "metadata": {},
   "outputs": [],
   "source": []
  }
 ],
 "metadata": {
  "kernelspec": {
   "display_name": "Python 3",
   "language": "python",
   "name": "python3"
  },
  "language_info": {
   "codemirror_mode": {
    "name": "ipython",
    "version": 3
   },
   "file_extension": ".py",
   "mimetype": "text/x-python",
   "name": "python",
   "nbconvert_exporter": "python",
   "pygments_lexer": "ipython3",
   "version": "3.6.5"
  }
 },
 "nbformat": 4,
 "nbformat_minor": 2
}
